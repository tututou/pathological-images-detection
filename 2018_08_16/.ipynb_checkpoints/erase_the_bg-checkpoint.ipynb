{
 "cells": [
  {
   "cell_type": "code",
   "execution_count": 1,
   "metadata": {},
   "outputs": [],
   "source": [
    "import openslide\n",
    "import numpy as np\n",
    "import scipy.signal as signal\n",
    "import scipy.io as sio\n",
    "import cv2"
   ]
  },
  {
   "cell_type": "code",
   "execution_count": 2,
   "metadata": {},
   "outputs": [
    {
     "name": "stdout",
     "output_type": "stream",
     "text": [
      "((87648, 22787), (21912, 5696), (5478, 1424), (2739, 712))\n",
      "(1.0, 4.000263342696629, 16.001053370786515, 32.00210674157303)\n"
     ]
    }
   ],
   "source": [
    "slide = openslide.open_slide('../8602.svs')\n",
    "dimensions = slide.level_dimensions\n",
    "downsamples = slide.level_downsamples\n",
    "print(dimensions)\n",
    "print(downsamples)"
   ]
  },
  {
   "cell_type": "code",
   "execution_count": 3,
   "metadata": {},
   "outputs": [],
   "source": [
    "# (0, 0), 4, (21912, 5696)\n",
    "downsample_img = np.array(slide.read_region((0, 0), 1, dimensions[1]))"
   ]
  },
  {
   "cell_type": "code",
   "execution_count": 4,
   "metadata": {},
   "outputs": [
    {
     "name": "stdout",
     "output_type": "stream",
     "text": [
      "n, m, z is  5696 21912 4\n",
      "bw shape is  (5696, 21912)\n"
     ]
    }
   ],
   "source": [
    "n, m, z = downsample_img.shape\n",
    "bw = np.zeros((n, m))\n",
    "print('n, m, z is ', n, m, z)\n",
    "print('bw shape is ', bw.shape)"
   ]
  },
  {
   "cell_type": "code",
   "execution_count": 5,
   "metadata": {},
   "outputs": [],
   "source": [
    "for i in range(n):\n",
    "    for j in range(m):\n",
    "        if downsample_img[i, j, 0] > 130 and (((int(downsample_img[i, j, 0]) - int(downsample_img[i, j, 1])) > 30) or ((\n",
    "                int(downsample_img[i, j, 0]) - int(downsample_img[i, j, 2])) > 30)):\n",
    "            bw[i, j] = 1"
   ]
  },
  {
   "cell_type": "code",
   "execution_count": 39,
   "metadata": {},
   "outputs": [
    {
     "name": "stdout",
     "output_type": "stream",
     "text": [
      "[0.37   0.3728 0.3753 0.378  0.38   0.3823 0.385  0.3878 0.3902 0.3928\n",
      " 0.3957 0.3981 0.4008 0.4027 0.4048 0.4082 0.4109 0.4136 0.4162 0.4187\n",
      " 0.4211 0.4235 0.4262 0.4282 0.4303 0.4319]\n"
     ]
    }
   ],
   "source": [
    "img_Blur = cv2.blur(bw, (100, 100), cv2.BORDER_REPLICATE)\n",
    "print(img_Blur[572, 960:986])"
   ]
  },
  {
   "cell_type": "code",
   "execution_count": 40,
   "metadata": {},
   "outputs": [
    {
     "name": "stdout",
     "output_type": "stream",
     "text": [
      "(5696, 21912)\n",
      "(5696, 21912)\n"
     ]
    }
   ],
   "source": [
    "data = sio.loadmat('h.mat')\n",
    "print(img_Blur.shape)\n",
    "print(data['h'].shape)"
   ]
  },
  {
   "cell_type": "code",
   "execution_count": 41,
   "metadata": {},
   "outputs": [
    {
     "data": {
      "text/plain": [
       "array([0.37  , 0.3728, 0.3753, 0.378 , 0.38  , 0.3823, 0.385 , 0.3878,\n",
       "       0.3902, 0.3928, 0.3957, 0.3981, 0.4008, 0.4027, 0.4048, 0.4082,\n",
       "       0.4109, 0.4136, 0.4162, 0.4187, 0.4211, 0.4235, 0.4262, 0.4282,\n",
       "       0.4303, 0.4319])"
      ]
     },
     "execution_count": 41,
     "metadata": {},
     "output_type": "execute_result"
    }
   ],
   "source": [
    "result = img_Blur.copy()\n",
    "result[572, 960:986]"
   ]
  },
  {
   "cell_type": "code",
   "execution_count": 42,
   "metadata": {},
   "outputs": [
    {
     "name": "stdout",
     "output_type": "stream",
     "text": [
      "[0. 0. 0. 0. 0. 0. 0. 0. 0. 0. 0. 0. 1. 1. 1. 1. 1. 1. 1. 1. 1. 1. 1. 1.\n",
      " 1. 1.]\n",
      "[0.37   0.3728 0.3753 0.378  0.38   0.3823 0.385  0.3878 0.3902 0.3928\n",
      " 0.3957 0.3981 0.4008 0.4027 0.4048 0.4082 0.4109 0.4136 0.4162 0.4187\n",
      " 0.4211 0.4235 0.4262 0.4282 0.4303 0.4319]\n"
     ]
    }
   ],
   "source": [
    "result[result > 0.4] = 1\n",
    "result[result <= 0.4] = 0\n",
    "print(result[572, 960:986])\n",
    "print(img_Blur[572, 960:986])"
   ]
  },
  {
   "cell_type": "code",
   "execution_count": 43,
   "metadata": {},
   "outputs": [
    {
     "data": {
      "text/plain": [
       "10886894.0"
      ]
     },
     "execution_count": 43,
     "metadata": {},
     "output_type": "execute_result"
    }
   ],
   "source": [
    "np.sum(result)"
   ]
  },
  {
   "cell_type": "code",
   "execution_count": 44,
   "metadata": {},
   "outputs": [],
   "source": [
    "bw3 = np.zeros((n, m, z), dtype=np.uint8)\n",
    "bw3[:,:,0] = result\n",
    "bw3[:,:,1] = result\n",
    "bw3[:,:,2] = result\n",
    "bw3[:,:,3] = 1"
   ]
  },
  {
   "cell_type": "code",
   "execution_count": 45,
   "metadata": {},
   "outputs": [],
   "source": [
    "BackRemImg=bw3 * downsample_img"
   ]
  },
  {
   "cell_type": "code",
   "execution_count": 46,
   "metadata": {},
   "outputs": [
    {
     "data": {
      "image/png": "[encoded data removed]",
      "text/plain": [
       "<Figure size 432x288 with 1 Axes>"
      ]
     },
     "metadata": {},
     "output_type": "display_data"
    }
   ],
   "source": [
    "import matplotlib.pyplot as plt\n",
    "plt.imshow(BackRemImg)\n",
    "plt.show()"
   ]
  },
  {
   "cell_type": "code",
   "execution_count": 47,
   "metadata": {},
   "outputs": [
    {
     "name": "stderr",
     "output_type": "stream",
     "text": [
      "/home/frodo/anaconda3/lib/python3.6/site-packages/ipykernel_launcher.py:3: DeprecationWarning: `imsave` is deprecated!\n",
      "`imsave` is deprecated in SciPy 1.0.0, and will be removed in 1.2.0.\n",
      "Use ``imageio.imwrite`` instead.\n",
      "  This is separate from the ipykernel package so we can avoid doing imports until\n"
     ]
    }
   ],
   "source": [
    "import scipy.misc\n",
    "\n",
    "scipy.misc.imsave('backRem.tif', BackRemImg)"
   ]
  },
  {
   "cell_type": "code",
   "execution_count": 48,
   "metadata": {},
   "outputs": [
    {
     "name": "stdout",
     "output_type": "stream",
     "text": [
      "8488931.710000027\n",
      "8488843.749200044\n"
     ]
    }
   ],
   "source": [
    "print(np.sum(img_Blur))\n",
    "print(np.sum(data['h']))"
   ]
  },
  {
   "cell_type": "code",
   "execution_count": 49,
   "metadata": {},
   "outputs": [
    {
     "name": "stdout",
     "output_type": "stream",
     "text": [
      "(5696, 21912)\n",
      "(5696, 21912)\n"
     ]
    }
   ],
   "source": [
    "print(img_Blur.shape)\n",
    "print(data['h'].shape)"
   ]
  },
  {
   "cell_type": "code",
   "execution_count": 50,
   "metadata": {},
   "outputs": [
    {
     "name": "stdout",
     "output_type": "stream",
     "text": [
      "[0.37   0.3728 0.3753 0.378  0.38   0.3823 0.385  0.3878 0.3902 0.3928\n",
      " 0.3957 0.3981 0.4008 0.4027 0.4048 0.4082 0.4109 0.4136 0.4162 0.4187\n",
      " 0.4211 0.4235 0.4262 0.4282 0.4303 0.4319]\n",
      "[0.3816 0.3842 0.387  0.3891 0.3914 0.3941 0.3969 0.3993 0.4019 0.4048\n",
      " 0.4072 0.4099 0.4118 0.4139 0.4173 0.42   0.4226 0.4251 0.4276 0.43\n",
      " 0.4325 0.4352 0.4372 0.4393 0.4409 0.4425]\n"
     ]
    }
   ],
   "source": [
    "print(img_Blur[572, 960:986])\n",
    "print(data['h'][572, 960:986])"
   ]
  },
  {
   "cell_type": "code",
   "execution_count": 52,
   "metadata": {},
   "outputs": [
    {
     "name": "stdout",
     "output_type": "stream",
     "text": [
      "[  0   0   0   0   0   0   0   0   0   0   0   0 165 160 137 167 153 102\n",
      " 115 121 154 167 168 206 203 205]\n"
     ]
    }
   ],
   "source": [
    "print(BackRemImg[572, 960:986, 0])"
   ]
  },
  {
   "cell_type": "code",
   "execution_count": null,
   "metadata": {},
   "outputs": [],
   "source": []
  }
 ],
 "metadata": {
  "kernelspec": {
   "display_name": "Python 3",
   "language": "python",
   "name": "python3"
  },
  "language_info": {
   "codemirror_mode": {
    "name": "ipython",
    "version": 3
   },
   "file_extension": ".py",
   "mimetype": "text/x-python",
   "name": "python",
   "nbconvert_exporter": "python",
   "pygments_lexer": "ipython3",
   "version": "3.6.5"
  }
 },
 "nbformat": 4,
 "nbformat_minor": 2
}
