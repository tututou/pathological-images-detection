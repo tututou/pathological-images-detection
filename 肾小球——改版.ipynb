{
 "cells": [
  {
   "cell_type": "code",
   "execution_count": 1,
   "metadata": {},
   "outputs": [],
   "source": [
    "import openslide\n",
    "import numpy as np\n",
    "import scipy.misc\n",
    "import scipy.io\n",
    "import cv2\n",
    "import os\n",
    "import matplotlib.pyplot as plt    \n",
    "from skimage import measure\n",
    "import logging\n",
    "from multiprocessing import Pool"
   ]
  },
  {
   "cell_type": "code",
   "execution_count": 2,
   "metadata": {},
   "outputs": [],
   "source": [
    "# 获取切片单元的上下y值\n",
    "def RemoveHeadEnd(OriImg):\n",
    "    n, m, z = OriImg.shape\n",
    "    i = 0\n",
    "    while np.sum(OriImg[i, :, :]) == 0 and i < n-1:\n",
    "        i += 1\n",
    "    h = i\n",
    "    j = n - 1\n",
    "    while np.sum(OriImg[j, :, :]) == 0 and j > 0:\n",
    "        j -= 1\n",
    "    e = j\n",
    "    return h, e"
   ]
  },
  {
   "cell_type": "code",
   "execution_count": 3,
   "metadata": {},
   "outputs": [],
   "source": [
    "# 对图片做处理：使得信息量高的值为1，低的为0\n",
    "def get_result(img):\n",
    "    bw = np.where(np.logical_and(img[:, :, 0] > 130, np.logical_or(img[:, :, 0] - img[:, :, 1] > 30,\n",
    "                                                                   img[:, :, 0] - img[:, :, 2] > 30)), 1, 0)\n",
    "    bw = bw.astype(dtype=np.float32)\n",
    "    img_Blur = cv2.blur(bw, (100, 100), cv2.BORDER_REPLICATE)\n",
    "    result = img_Blur\n",
    "    result[result > 0.4] = 1\n",
    "    result[result <= 0.4] = 0\n",
    "    return result"
   ]
  },
  {
   "cell_type": "code",
   "execution_count": 4,
   "metadata": {},
   "outputs": [],
   "source": [
    "# 获得每一个连通域，并保存各连通域内的肾小球\n",
    "def save_glomerular(img, label_image, unit_path):\n",
    "    for region in measure.regionprops(label_image):\n",
    "        pos = region.bbox\n",
    "        if pos[2]-pos[0]<10 or pos[3]-pos[1]<10:\n",
    "            continue\n",
    "        else:\n",
    "            result = np.zeros(((pos[2]-pos[0])*zoom_ratio, (pos[3]-pos[1])*zoom_ratio, 3), dtype=np.uint8)\n",
    "            for j in range(3):\n",
    "                result[:,:,j] = img[pos[0]*zoom_ratio:pos[2]*zoom_ratio, pos[1]*zoom_ratio:pos[3]*zoom_ratio, j]\n",
    "            scipy.misc.imsave(unit_path+'/{}.tif'.format(measure.regionprops(label_image).index(region)+1), result)"
   ]
  },
  {
   "cell_type": "code",
   "execution_count": 5,
   "metadata": {},
   "outputs": [],
   "source": [
    "if not os.path.exists('./SegPic'):\n",
    "    os.mkdir('./SegPic')\n",
    "svsFiles_dir = '/home/frodo/Desktop/job content/SVSFiles/'\n",
    "MaskPath = '/home/frodo/Desktop/job content/所有mask/'\n",
    "svsFiles_names = os.listdir(svsFiles_dir)\n",
    "svsFiles_names.sort()"
   ]
  },
  {
   "cell_type": "code",
   "execution_count": 6,
   "metadata": {},
   "outputs": [],
   "source": [
    "index = svsFiles_names.index('8737.svs')\n",
    "svsFiles_names = svsFiles_names[index:]"
   ]
  },
  {
   "cell_type": "code",
   "execution_count": 7,
   "metadata": {},
   "outputs": [],
   "source": [
    "maskname_list = []\n",
    "for maskname in os.listdir(MaskPath):\n",
    "    name = maskname.split('_')[0]\n",
    "    maskname_list.append(name)\n",
    "maskname_set = set(maskname_list)"
   ]
  },
  {
   "cell_type": "code",
   "execution_count": 18,
   "metadata": {
    "scrolled": true
   },
   "outputs": [
    {
     "name": "stdout",
     "output_type": "stream",
     "text": [
      "8743.svs  started!\n",
      "[((2244, 9832), (1176, 1080)), ((5760, 4944), (1728, 5076)), ((12904, 12244), (1716, 1056)), ((15440, 12708), (12, 0)), ((15476, 16992), (0, -16992)), ((15488, 12640), (80, 84)), ((15588, 12632), (28, 36)), ((15844, 6168), (1436, 6636)), ((23168, 12348), (1180, 1100)), ((24856, 5920), (1328, 7348)), ((26732, 11932), (140, 164)), ((27552, 10520), (340, 348)), ((33508, 4840), (2092, 7544)), ((36376, 8684), (1748, 3004))]\n",
      "14\n"
     ]
    },
    {
     "ename": "OpenSlideError",
     "evalue": "negative width (0) or negative height (-16992) not allowed",
     "output_type": "error",
     "traceback": [
      "\u001b[0;31m---------------------------------------------------------------------------\u001b[0m",
      "\u001b[0;31mOpenSlideError\u001b[0m                            Traceback (most recent call last)",
      "\u001b[0;32m<ipython-input-18-02e33713ee6a>\u001b[0m in \u001b[0;36m<module>\u001b[0;34m()\u001b[0m\n\u001b[1;32m     91\u001b[0m         \u001b[0mi\u001b[0m \u001b[0;34m=\u001b[0m \u001b[0mloc_dim\u001b[0m\u001b[0;34m.\u001b[0m\u001b[0mindex\u001b[0m\u001b[0;34m(\u001b[0m\u001b[0meach\u001b[0m\u001b[0;34m)\u001b[0m \u001b[0;34m+\u001b[0m \u001b[0;36m1\u001b[0m\u001b[0;34m\u001b[0m\u001b[0m\n\u001b[1;32m     92\u001b[0m         \u001b[0;31m# each[0]为坐标位置，each[1]为图片宽高。获得每一个切片单元\u001b[0m\u001b[0;34m\u001b[0m\u001b[0;34m\u001b[0m\u001b[0m\n\u001b[0;32m---> 93\u001b[0;31m         \u001b[0mimg\u001b[0m \u001b[0;34m=\u001b[0m \u001b[0mnp\u001b[0m\u001b[0;34m.\u001b[0m\u001b[0marray\u001b[0m\u001b[0;34m(\u001b[0m\u001b[0mslide\u001b[0m\u001b[0;34m.\u001b[0m\u001b[0mread_region\u001b[0m\u001b[0;34m(\u001b[0m\u001b[0meach\u001b[0m\u001b[0;34m[\u001b[0m\u001b[0;36m0\u001b[0m\u001b[0;34m]\u001b[0m\u001b[0;34m,\u001b[0m \u001b[0;36m0\u001b[0m\u001b[0;34m,\u001b[0m \u001b[0meach\u001b[0m\u001b[0;34m[\u001b[0m\u001b[0;36m1\u001b[0m\u001b[0;34m]\u001b[0m\u001b[0;34m)\u001b[0m\u001b[0;34m)\u001b[0m\u001b[0;34m\u001b[0m\u001b[0m\n\u001b[0m\u001b[1;32m     94\u001b[0m         \u001b[0;31m# 读取mask图片\u001b[0m\u001b[0;34m\u001b[0m\u001b[0;34m\u001b[0m\u001b[0m\n\u001b[1;32m     95\u001b[0m         \u001b[0mimg_mask_path\u001b[0m \u001b[0;34m=\u001b[0m \u001b[0mMaskPath\u001b[0m \u001b[0;34m+\u001b[0m \u001b[0mimgname\u001b[0m \u001b[0;34m+\u001b[0m \u001b[0;34m'_'\u001b[0m \u001b[0;34m+\u001b[0m \u001b[0mstr\u001b[0m\u001b[0;34m(\u001b[0m\u001b[0mi\u001b[0m\u001b[0;34m)\u001b[0m\u001b[0;34m+\u001b[0m\u001b[0;34m'.mask.png.bmp'\u001b[0m\u001b[0;34m\u001b[0m\u001b[0m\n",
      "\u001b[0;32m~/.local/lib/python3.6/site-packages/openslide/__init__.py\u001b[0m in \u001b[0;36mread_region\u001b[0;34m(self, location, level, size)\u001b[0m\n\u001b[1;32m    221\u001b[0m         function is not premultiplied.\"\"\"\n\u001b[1;32m    222\u001b[0m         return lowlevel.read_region(self._osr, location[0], location[1],\n\u001b[0;32m--> 223\u001b[0;31m                 level, size[0], size[1])\n\u001b[0m\u001b[1;32m    224\u001b[0m \u001b[0;34m\u001b[0m\u001b[0m\n\u001b[1;32m    225\u001b[0m \u001b[0;34m\u001b[0m\u001b[0m\n",
      "\u001b[0;32m~/.local/lib/python3.6/site-packages/openslide/lowlevel.py\u001b[0m in \u001b[0;36mread_region\u001b[0;34m(slide, x, y, level, w, h)\u001b[0m\n\u001b[1;32m    252\u001b[0m         raise OpenSlideError(\n\u001b[1;32m    253\u001b[0m                 \"negative width (%d) or negative height (%d) not allowed\" % (\n\u001b[0;32m--> 254\u001b[0;31m                 w, h))\n\u001b[0m\u001b[1;32m    255\u001b[0m     \u001b[0;32mif\u001b[0m \u001b[0mw\u001b[0m \u001b[0;34m==\u001b[0m \u001b[0;36m0\u001b[0m \u001b[0;32mor\u001b[0m \u001b[0mh\u001b[0m \u001b[0;34m==\u001b[0m \u001b[0;36m0\u001b[0m\u001b[0;34m:\u001b[0m\u001b[0;34m\u001b[0m\u001b[0m\n\u001b[1;32m    256\u001b[0m         \u001b[0;31m# PIL.Image.frombuffer() would raise an exception\u001b[0m\u001b[0;34m\u001b[0m\u001b[0;34m\u001b[0m\u001b[0m\n",
      "\u001b[0;31mOpenSlideError\u001b[0m: negative width (0) or negative height (-16992) not allowed"
     ]
    }
   ],
   "source": [
    "for imgname in svsFiles_names:\n",
    "    # 如果mask文件夹里面没有对应svs的mask图片，则跳过本次循环\n",
    "    if imgname not in maskname_set:\n",
    "        continue\n",
    "\n",
    "    imgname = '8743.svs'\n",
    "    # 如果有mask图片，则继续判断判断是否已经存在对应的文件夹，没有则创建\n",
    "    if not os.path.exists('./SegPic/' + imgname):\n",
    "        os.mkdir('./SegPic/' + imgname)\n",
    "\n",
    "    # 定义一个存放元祖（坐标，宽高）的列表    \n",
    "    loc_dim = []\n",
    "    slide = openslide.open_slide(svsFiles_dir + imgname)\n",
    "    # 获得要切片的图像大小\n",
    "    size = slide.level_dimensions[1]\n",
    "    # 获得对应图像大小下的缩放倍率\n",
    "    zoom_ratio = int(slide.level_downsamples[1])\n",
    "    # print(size)\n",
    "    img = np.array(slide.read_region((0, 0), 1, size), dtype=np.float16)\n",
    "    n, m, z = img.shape\n",
    "\n",
    "    # 获得重要的信息点\n",
    "    result = get_result(img)\n",
    "    # 生成一个mask，并给mask的每一通道赋予相同的result值\n",
    "    bw3 = np.zeros((n, m, z - 1))\n",
    "    for i in range(z-1):\n",
    "        bw3[:, :, i] = result\n",
    "    # 获得去除背景后的图片\n",
    "    BackRemImg = bw3 * img[:, :, :-1]\n",
    "\n",
    "    # 生成（1,m）的数组，为图片的宽（x轴）\n",
    "    PatchSegMark = np.zeros((1, m))\n",
    "    # 如果图片的每一单位像素的行的值的总和不为0,说明有切片单元，值设为1；反之，说明没有切片单元，则该位置值设为0\n",
    "    for i in range(m):\n",
    "        if np.sum(result[:, i]):\n",
    "            PatchSegMark[0, i] = 1\n",
    "        else:\n",
    "            PatchSegMark[0, i] = 0\n",
    "    # 对相邻的值做差离值，若值为1（1-0）或者-1（0-1），说明这是切片单元的边界处\n",
    "    PatchSegPos = np.diff(PatchSegMark, n=1)\n",
    "    # 值为1代表切片单元的起始边界\n",
    "    PatchSegPosStart = np.where(PatchSegPos == 1)[1]\n",
    "    # 值为-1代表切片单元的结束边界\n",
    "    PatchSegPosEnd = np.where(PatchSegPos == -1)[1]\n",
    "    # 获得起始边界和结束边界的个数\n",
    "    StartNum = len(PatchSegPosStart)\n",
    "    EndNum = len(PatchSegPosEnd)\n",
    "\n",
    "    # 确定切片单元的位置\n",
    "    if PatchSegPosStart[0] > PatchSegPosEnd[0]:         # 代表先出现切片单元\n",
    "        patch = BackRemImg[:, :PatchSegPosEnd[0], :]    # 第一张图片在0～第一个切片单元的结束边界选取\n",
    "        h, e = RemoveHeadEnd(patch)                     # 获得每个切片单元的上下边界\n",
    "        loc_dim.append(((0*zoom_ratio,h*zoom_ratio),((PatchSegPosEnd[0] - 1)*zoom_ratio, (e-h)*zoom_ratio)))\n",
    "\n",
    "        if StartNum < EndNum:\n",
    "            for i in range(StartNum):\n",
    "                patch = BackRemImg[:, PatchSegPosStart[i]:PatchSegPosEnd[i + 1], :]\n",
    "                h, e = RemoveHeadEnd(patch)\n",
    "                if e > h:\n",
    "                    loc_dim.append(((PatchSegPosStart[i] *zoom_ratio, h*zoom_ratio), ((PatchSegPosEnd[i + 1]-1 - PatchSegPosStart[i])*zoom_ratio, (e-h)*zoom_ratio)))\n",
    "        else:\n",
    "            for i in range(StartNum - 1):\n",
    "                patch = BackRemImg[:, PatchSegPosStart[i]:PatchSegPosEnd[i + 1], :]\n",
    "                h, e = RemoveHeadEnd(patch)\n",
    "                loc_dim.append(((PatchSegPosStart[i]*zoom_ratio,h*zoom_ratio),((PatchSegPosEnd[i + 1]-1 -PatchSegPosStart[i])*zoom_ratio, (e-h)*zoom_ratio)))\n",
    "\n",
    "            patch = BackRemImg[:, PatchSegPosStart[StartNum - 1]:m, :]\n",
    "            h, e = RemoveHeadEnd(patch)\n",
    "            loc_dim.append(((PatchSegPosStart[StartNum - 1]*zoom_ratio,h*zoom_ratio),((m-1-PatchSegPosStart[StartNum - 1])*zoom_ratio,(e-h)*zoom_ratio)))\n",
    "    else:\n",
    "        if StartNum > EndNum:\n",
    "            for i in range(StartNum - 1):\n",
    "                patch = BackRemImg[:, PatchSegPosStart[i]:PatchSegPosEnd[i], :]\n",
    "                h, e = RemoveHeadEnd(patch)\n",
    "                loc_dim.append(((PatchSegPosStart[i]*zoom_ratio,h*zoom_ratio),((PatchSegPosEnd[i] - 1-PatchSegPosStart[i])*zoom_ratio, (e-h)*zoom_ratio)))\n",
    "            patch = BackRemImg[:, PatchSegPosStart[StartNum - 1]:m, :]\n",
    "            h, e = RemoveHeadEnd(patch)\n",
    "            loc_dim.append(((PatchSegPosStart[StartNum - 1]*zoom_ratio,h*zoom_ratio),((m-1-PatchSegPosStart[StartNum - 1])*zoom_ratio,(e-h)*zoom_ratio)))\n",
    "        else:\n",
    "            for i in range(StartNum):\n",
    "                patch = BackRemImg[:, PatchSegPosStart[i]:PatchSegPosEnd[i], :]\n",
    "                h, e = RemoveHeadEnd(patch)\n",
    "#                 if e > h:\n",
    "                loc_dim.append(((PatchSegPosStart[i]*zoom_ratio,h*zoom_ratio),((PatchSegPosEnd[i] - 1-PatchSegPosStart[i])*zoom_ratio,(e-h)*zoom_ratio)))\n",
    "\n",
    "    # 根据低分辨率的切片单元的位置，判定出高分辨率下对应切片单元的位置，进行切片\n",
    "    print(imgname, ' started!')\n",
    "    print(len(loc_dim))\n",
    "    for each in loc_dim:\n",
    "        i = loc_dim.index(each) + 1\n",
    "        # each[0]为坐标位置，each[1]为图片宽高。获得每一个切片单元\n",
    "        img = np.array(slide.read_region(each[0], 0, each[1]))\n",
    "        # 读取mask图片\n",
    "        img_mask_path = MaskPath + imgname + '_' + str(i)+'.mask.png.bmp'\n",
    "        bmp = cv2.imread(img_mask_path, 0)\n",
    "\n",
    "        if bmp is not None:\n",
    "            # 为当前图片的第n个切片单元创建对应的文件夹\n",
    "            unit_path = 'SegPic/'+imgname+'/'+str(i)      # 当前切片单元路径\n",
    "            if not os.path.exists(unit_path):\n",
    "                os.mkdir(unit_path)\n",
    "\n",
    "            bw = np.where(bmp, 1, 0)        # 生成阈值\n",
    "            label_image =measure.label(bw)  # 连通区域标记\n",
    "            try:\n",
    "                # 获得每一个连通域，并且保存肾小球\n",
    "                save_glomerular(img, label_image, unit_path)\n",
    "            except Exception as e:\n",
    "                logging.error(e)\n",
    "                with open('./SegPic/error.txt', 'a') as f:\n",
    "                    f.write('\\n{}的第{}张切片分割肾小球出错: {}'.format(imgname,i,str(e)))\n",
    "#         break\n",
    "    print(imgname, ' finished! \\n')\n",
    "    break"
   ]
  },
  {
   "cell_type": "code",
   "execution_count": null,
   "metadata": {},
   "outputs": [],
   "source": []
  },
  {
   "cell_type": "markdown",
   "metadata": {},
   "source": [
    "# 下面的是试验：将openslide读取出来的图片直接转换成RGB格式"
   ]
  },
  {
   "cell_type": "code",
   "execution_count": 11,
   "metadata": {},
   "outputs": [],
   "source": [
    "a = openslide.open_slide('/home/frodo/Desktop/job content/SVSFiles/8734.svs')"
   ]
  },
  {
   "cell_type": "code",
   "execution_count": 14,
   "metadata": {},
   "outputs": [
    {
     "data": {
      "text/plain": [
       "80092220383"
      ]
     },
     "execution_count": 14,
     "metadata": {},
     "output_type": "execute_result"
    }
   ],
   "source": [
    "res1 = np.array(slide.read_region((0,0),1,a.level_dimensions[1]))\n",
    "np.sum(res1[:,:,:-1])"
   ]
  },
  {
   "cell_type": "code",
   "execution_count": 13,
   "metadata": {},
   "outputs": [
    {
     "data": {
      "text/plain": [
       "80092220383"
      ]
     },
     "execution_count": 13,
     "metadata": {},
     "output_type": "execute_result"
    }
   ],
   "source": [
    "# 可以在读取的过程中转换成RGB格式\n",
    "res2 = np.array(slide.read_region((0,0),1,a.level_dimensions[1]).convert('RGB'))\n",
    "np.sum(res2过程中"
   ]
  },
  {
   "cell_type": "code",
   "execution_count": null,
   "metadata": {},
   "outputs": [],
   "source": []
  }
 ],
 "metadata": {
  "kernelspec": {
   "display_name": "Python 3",
   "language": "python",
   "name": "python3"
  },
  "language_info": {
   "codemirror_mode": {
    "name": "ipython",
    "version": 3
   },
   "file_extension": ".py",
   "mimetype": "text/x-python",
   "name": "python",
   "nbconvert_exporter": "python",
   "pygments_lexer": "ipython3",
   "version": "3.6.5"
  }
 },
 "nbformat": 4,
 "nbformat_minor": 2
}
