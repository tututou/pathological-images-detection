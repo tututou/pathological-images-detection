{
 "cells": [
  {
   "cell_type": "code",
   "execution_count": 17,
   "metadata": {},
   "outputs": [],
   "source": [
    "import os\n",
    "import re\n",
    "import logging"
   ]
  },
  {
   "cell_type": "code",
   "execution_count": 18,
   "metadata": {},
   "outputs": [],
   "source": [
    "SegPic_dir = '/home/frodo/Desktop/restore_files/codes/get_tiles/分割高清肾小球/SegPic'\n",
    "mask_dir = '/media/frodo/Seagate Expansion Drive/temp/all material/标注好的0624/所有mask'"
   ]
  },
  {
   "cell_type": "code",
   "execution_count": 28,
   "metadata": {},
   "outputs": [],
   "source": [
    "SegPic_list = os.listdir(SegPic_dir)\n",
    "mask_list = os.listdir(mask_dir)\n",
    "end_index = mask_list.index('9284.svs_2.mask.png.bmp')\n",
    "mask_list = mask_list[:end_index + 1]"
   ]
  },
  {
   "cell_type": "code",
   "execution_count": 35,
   "metadata": {
    "scrolled": true
   },
   "outputs": [
    {
     "name": "stdout",
     "output_type": "stream",
     "text": [
      "9208.svs_1.mask.png.bmp\n",
      "9208.svs_2.mask.png.bmp\n",
      "9208.svs_4.mask.png.bmp\n"
     ]
    }
   ],
   "source": [
    "mask_dict = dict()\n",
    "for mask in mask_list:\n",
    "    filename, suffix = mask.split('_')\n",
    "    if filename not in mask_dict:\n",
    "        mask_dict[filename] = 0\n",
    "    mask_dict[filename] += 1\n",
    "    if mask.startswith('9208'):\n",
    "        print(mask)\n",
    "# mask_dict"
   ]
  },
  {
   "cell_type": "code",
   "execution_count": 30,
   "metadata": {},
   "outputs": [
    {
     "data": {
      "text/plain": [
       "4"
      ]
     },
     "execution_count": 30,
     "metadata": {},
     "output_type": "execute_result"
    }
   ],
   "source": [
    "SegPic_dict = dict()\n",
    "for filename in SegPic_list:\n",
    "    file_dir = os.path.join(SegPic_dir, filename)\n",
    "    if os.path.isdir(file_dir):\n",
    "        patch_list = os.listdir(file_dir)\n",
    "        SegPic_dict[filename] = len(patch_list)\n",
    "SegPic_dict['9208.svs']"
   ]
  },
  {
   "cell_type": "code",
   "execution_count": 31,
   "metadata": {},
   "outputs": [
    {
     "name": "stdout",
     "output_type": "stream",
     "text": [
      "filename: 9208.svs; mask is 3 and SegPic is 4\n",
      "filename: 9211.svs; mask is 3 and SegPic is 4\n",
      "filename: 9219.svs; mask is 3 and SegPic is 4\n",
      "filename: 9222.svs; mask is 3 and SegPic is 4\n",
      "filename: 9264.svs; mask is 3 and SegPic is 4\n",
      "filename: 9268.svs; mask is 2 and SegPic is 3\n",
      "filename: 9273.svs; mask is 3 and SegPic is 1\n"
     ]
    }
   ],
   "source": [
    "for filename, count in mask_dict.items():\n",
    "#     print(filename, count)\n",
    "    if filename not in SegPic_dict.keys():\n",
    "        print(filename)\n",
    "        continue\n",
    "    else:\n",
    "        if count != SegPic_dict[filename]:\n",
    "            print('filename: {}; mask is {} and SegPic is {}'.format(filename, count, SegPic_dict[filename]))"
   ]
  },
  {
   "cell_type": "code",
   "execution_count": null,
   "metadata": {},
   "outputs": [],
   "source": []
  }
 ],
 "metadata": {
  "kernelspec": {
   "display_name": "Python 3",
   "language": "python",
   "name": "python3"
  },
  "language_info": {
   "codemirror_mode": {
    "name": "ipython",
    "version": 3
   },
   "file_extension": ".py",
   "mimetype": "text/x-python",
   "name": "python",
   "nbconvert_exporter": "python",
   "pygments_lexer": "ipython3",
   "version": "3.6.5"
  }
 },
 "nbformat": 4,
 "nbformat_minor": 2
}
