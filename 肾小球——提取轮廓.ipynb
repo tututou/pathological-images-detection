{
 "cells": [
  {
   "cell_type": "code",
   "execution_count": 1,
   "metadata": {},
   "outputs": [],
   "source": [
    "import openslide\n",
    "import numpy as np\n",
    "import scipy.misc\n",
    "import scipy.io\n",
    "import cv2\n",
    "import os\n",
    "import matplotlib.pyplot as plt    \n",
    "from skimage import measure\n",
    "import logging\n",
    "from multiprocessing import Pool"
   ]
  },
  {
   "cell_type": "code",
   "execution_count": 2,
   "metadata": {},
   "outputs": [],
   "source": [
    "# 获取切片单元的上下y值\n",
    "def RemoveHeadEnd(OriImg):\n",
    "    n, m, z = OriImg.shape\n",
    "    i = 0\n",
    "    while np.sum(OriImg[i, :, :]) == 0 and i < n-1:\n",
    "        i += 1\n",
    "    h = i\n",
    "    j = n - 1\n",
    "    while np.sum(OriImg[j, :, :]) == 0 and j > 0:\n",
    "        j -= 1\n",
    "    e = j\n",
    "    return h, e"
   ]
  },
  {
   "cell_type": "code",
   "execution_count": 3,
   "metadata": {},
   "outputs": [],
   "source": [
    "# 对图片做处理：使得信息量高的值为1，低的为0\n",
    "def get_result(img):\n",
    "    bw = np.where(np.logical_and(img[:, :, 0] > 130, np.logical_or(img[:, :, 0] - img[:, :, 1] > 30,\n",
    "                                                                   img[:, :, 0] - img[:, :, 2] > 30)), 1, 0)\n",
    "    bw = bw.astype(dtype=np.float32)\n",
    "    img_Blur = cv2.blur(bw, (100, 100), cv2.BORDER_REPLICATE)\n",
    "    result = img_Blur\n",
    "    result[result > 0.4] = 1\n",
    "    result[result <= 0.4] = 0\n",
    "    return result"
   ]
  },
  {
   "cell_type": "code",
   "execution_count": 4,
   "metadata": {},
   "outputs": [],
   "source": [
    "# 获得每一个连通域，并保存各连通域内的肾小球\n",
    "def save_glomerular(img, label_image, unit_path, bmp):\n",
    "    for region in measure.regionprops(label_image):\n",
    "        pos = region.bbox\n",
    "    \n",
    "        if pos[2]-pos[0]<10 or pos[3]-pos[1]<10:\n",
    "            continue\n",
    "        else:\n",
    "            result = np.zeros(((pos[2]-pos[0])*zoom_ratio, (pos[3]-pos[1])*zoom_ratio, 3), dtype=np.uint8)\n",
    "            mask = bmp[pos[0]:pos[2], pos[1]:pos[3]]\n",
    "            mask = cv2.resize(mask, (result.shape[1], result.shape[0]))\n",
    "            mask = np.where(mask, 1, 0)\n",
    "            mask = mask.astype(dtype=np.uint8)\n",
    "            \n",
    "            blur = cv2.medianBlur(mask, 5)\n",
    "            \n",
    "            for j in range(3):\n",
    "                result[:,:,j] = img[pos[0]*zoom_ratio:pos[2]*zoom_ratio, pos[1]*zoom_ratio:pos[3]*zoom_ratio, j]\n",
    "                result[:,:,j] *= blur\n",
    "                \n",
    "            scipy.misc.imsave(unit_path+'/{}.tif'.format(measure.regionprops(label_image).index(region)+1), result)"
   ]
  },
  {
   "cell_type": "code",
   "execution_count": 5,
   "metadata": {},
   "outputs": [],
   "source": [
    "if not os.path.exists('./SegPic'):\n",
    "    os.mkdir('./SegPic')\n",
    "svsFiles_dir = '/media/frodo/70C82035C81FF7D4/DingLian/20180803/SVSFiles/'\n",
    "MaskPath = '/home/frodo/Desktop/job content/所有mask/'\n",
    "svsFiles_names = os.listdir(svsFiles_dir)\n",
    "svsFiles_names.sort()"
   ]
  },
  {
   "cell_type": "code",
   "execution_count": 6,
   "metadata": {},
   "outputs": [],
   "source": [
    "# index = svsFiles_names.index('8657.svs')\n",
    "# svsFiles_names = svsFiles_names[index:]"
   ]
  },
  {
   "cell_type": "code",
   "execution_count": 7,
   "metadata": {},
   "outputs": [],
   "source": [
    "maskname_list = []\n",
    "for maskname in os.listdir(MaskPath):\n",
    "    name = maskname.split('_')[0]\n",
    "    maskname_list.append(name)\n",
    "maskname_set = set(maskname_list)"
   ]
  },
  {
   "cell_type": "code",
   "execution_count": null,
   "metadata": {
    "scrolled": true
   },
   "outputs": [
    {
     "name": "stdout",
     "output_type": "stream",
     "text": [
      "8602.svs  started!\n"
     ]
    },
    {
     "name": "stderr",
     "output_type": "stream",
     "text": [
      "/home/frodo/anaconda3/lib/python3.6/site-packages/ipykernel_launcher.py:21: DeprecationWarning: `imsave` is deprecated!\n",
      "`imsave` is deprecated in SciPy 1.0.0, and will be removed in 1.2.0.\n",
      "Use ``imageio.imwrite`` instead.\n"
     ]
    },
    {
     "name": "stdout",
     "output_type": "stream",
     "text": [
      "8602.svs  finished! \n",
      "\n",
      "8604.svs  started!\n",
      "8604.svs  finished! \n",
      "\n",
      "8607.svs  started!\n",
      "8607.svs  finished! \n",
      "\n",
      "8608.svs  started!\n",
      "8608.svs  finished! \n",
      "\n",
      "8610.svs  started!\n",
      "8610.svs  finished! \n",
      "\n",
      "8611.svs  started!\n",
      "8611.svs  finished! \n",
      "\n",
      "8612.svs  started!\n",
      "8612.svs  finished! \n",
      "\n",
      "8613.svs  started!\n",
      "8613.svs  finished! \n",
      "\n",
      "8616.svs  started!\n"
     ]
    }
   ],
   "source": [
    "for imgname in svsFiles_names:\n",
    "#     imgname = '8602.svs' \n",
    "    \n",
    "    # 如果mask文件夹里面没有对应svs的mask图片，则跳过本次循环\n",
    "    if imgname not in maskname_set:\n",
    "        continue\n",
    "\n",
    "    # 如果有mask图片，则继续判断判断是否已经存在对应的文件夹，没有则创建\n",
    "    if not os.path.exists('./SegPic/' + imgname):\n",
    "        os.mkdir('./SegPic/' + imgname)\n",
    "\n",
    "    # 定义一个存放元祖（坐标，宽高）的列表    \n",
    "    loc_dim = []\n",
    "   \n",
    "    # 利用openslide读取图片\n",
    "    slide = openslide.open_slide(svsFiles_dir + imgname)\n",
    "    # 获得对应图像大小下的缩放倍率\n",
    "    zoom_ratio = int(slide.level_downsamples[1])\n",
    "    \n",
    "    # 读取区背景后的图片\n",
    "    BackRemImg = scipy.io.loadmat('/media/frodo/70C82035C81FF7D4/DingLian/20180803/SegPic/{}/去背景图.mat'.format(imgname))['BackRem']\n",
    "    n, m, z = BackRemImg.shape\n",
    "    result = np.where(BackRemImg, 1, 0)[:,:,0]\n",
    "\n",
    "    # 生成（1,m）的数组，为图片的宽（x轴）\n",
    "    PatchSegMark = np.zeros((1, m))\n",
    "    # 如果图片的每一单位像素的行的值的总和不为0,说明有切片单元，值设为1；反之，说明没有切片单元，则该位置值设为0\n",
    "    for i in range(m):\n",
    "        if np.sum(result[:, i]):\n",
    "            PatchSegMark[0, i] = 1\n",
    "        else:\n",
    "            PatchSegMark[0, i] = 0\n",
    "    # 对相邻的值做差离值，若值为1（1-0）或者-1（0-1），说明这是切片单元的边界处\n",
    "    PatchSegPos = np.diff(PatchSegMark, n=1)\n",
    "    # 值为1代表切片单元的起始边界\n",
    "    PatchSegPosStart = np.where(PatchSegPos == 1)[1]\n",
    "    # 值为-1代表切片单元的结束边界\n",
    "    PatchSegPosEnd = np.where(PatchSegPos == -1)[1]\n",
    "    # 获得起始边界和结束边界的个数\n",
    "    StartNum = len(PatchSegPosStart)\n",
    "    EndNum = len(PatchSegPosEnd)\n",
    "\n",
    "    # 确定切片单元的位置\n",
    "    if PatchSegPosStart[0] > PatchSegPosEnd[0]:         # 代表先出现切片单元\n",
    "        patch = BackRemImg[:, :PatchSegPosEnd[0]+1, :]    # 第一张图片在0～第一个切片单元的结束边界选取\n",
    "        h, e = RemoveHeadEnd(patch)                     # 获得每个切片单元的上下边界\n",
    "        loc_dim.append(((0*zoom_ratio,h*zoom_ratio),((PatchSegPosEnd[0])*zoom_ratio, (e-h)*zoom_ratio)))\n",
    "\n",
    "        if StartNum < EndNum:\n",
    "            for i in range(StartNum):\n",
    "                patch = BackRemImg[:, PatchSegPosStart[i]:PatchSegPosEnd[i + 1]+1, :]\n",
    "                h, e = RemoveHeadEnd(patch)\n",
    "                if e > h:\n",
    "                    loc_dim.append(((PatchSegPosStart[i] *zoom_ratio, h*zoom_ratio), ((PatchSegPosEnd[i + 1] - PatchSegPosStart[i])*zoom_ratio, (e-h)*zoom_ratio)))\n",
    "        else:\n",
    "            for i in range(StartNum - 1):\n",
    "                patch = BackRemImg[:, PatchSegPosStart[i]:PatchSegPosEnd[i + 1]+1, :]\n",
    "                h, e = RemoveHeadEnd(patch)\n",
    "                loc_dim.append(((PatchSegPosStart[i]*zoom_ratio,h*zoom_ratio),((PatchSegPosEnd[i + 1] -PatchSegPosStart[i])*zoom_ratio, (e-h)*zoom_ratio)))\n",
    "\n",
    "            patch = BackRemImg[:, PatchSegPosStart[StartNum - 1]:m+1, :]\n",
    "            h, e = RemoveHeadEnd(patch)\n",
    "            loc_dim.append(((PatchSegPosStart[StartNum - 1]*zoom_ratio,h*zoom_ratio),((m-PatchSegPosStart[StartNum - 1])*zoom_ratio,(e-h)*zoom_ratio)))\n",
    "    else:\n",
    "        if StartNum > EndNum:\n",
    "            for i in range(StartNum - 1):\n",
    "                patch = BackRemImg[:, PatchSegPosStart[i]:PatchSegPosEnd[i]+1, :]\n",
    "                h, e = RemoveHeadEnd(patch)\n",
    "                loc_dim.append(((PatchSegPosStart[i]*zoom_ratio,h*zoom_ratio),((PatchSegPosEnd[i] -PatchSegPosStart[i])*zoom_ratio, (e-h)*zoom_ratio)))\n",
    "            patch = BackRemImg[:, PatchSegPosStart[StartNum - 1]:m+1, :]\n",
    "            h, e = RemoveHeadEnd(patch)\n",
    "            loc_dim.append(((PatchSegPosStart[StartNum - 1]*zoom_ratio,h*zoom_ratio),((m-PatchSegPosStart[StartNum - 1])*zoom_ratio,(e-h)*zoom_ratio)))\n",
    "        else:\n",
    "            for i in range(StartNum):\n",
    "                patch = BackRemImg[:, PatchSegPosStart[i]:PatchSegPosEnd[i]+1, :]\n",
    "                h, e = RemoveHeadEnd(patch)\n",
    "#                 if e > h:\n",
    "                loc_dim.append(((PatchSegPosStart[i]*zoom_ratio,h*zoom_ratio),((PatchSegPosEnd[i] -PatchSegPosStart[i])*zoom_ratio,(e-h)*zoom_ratio)))\n",
    "\n",
    "    # 根据低分辨率的切片单元的位置，判定出高分辨率下对应切片单元的位置，进行切片\n",
    "    print(imgname, ' started!')\n",
    "#     print(len(loc_dim))\n",
    "    for each in loc_dim:\n",
    "        i = loc_dim.index(each) + 1\n",
    "        try:\n",
    "            # each[0]为坐标位置，each[1]为图片宽高。获得每一个切片单元\n",
    "            img = np.array(slide.read_region(each[0], 0, each[1]))\n",
    "        except Exception as e:\n",
    "            with open('./SegPic/error.txt', 'a') as f:\n",
    "                    f.write('\\n{}的第{}张切片分割肾小球出错: {}'.format(imgname,i,str(e)))\n",
    "            continue\n",
    "        # 读取mask图片\n",
    "        img_mask_path = MaskPath + imgname + '_' + str(i)+'.mask.png.bmp'\n",
    "        bmp = cv2.imread(img_mask_path, 0)\n",
    "\n",
    "        if bmp is not None:\n",
    "            # 为当前图片的第n个切片单元创建对应的文件夹\n",
    "            unit_path = 'SegPic/'+imgname+'/'+str(i)      # 当前切片单元路径\n",
    "            if not os.path.exists(unit_path):\n",
    "                os.mkdir(unit_path)\n",
    "\n",
    "            bw = np.where(bmp, 1, 0)        # 生成阈值\n",
    "            label_image =measure.label(bw)  # 连通区域标记\n",
    "            try:\n",
    "                # 获得每一个连通域，并且保存肾小球\n",
    "                save_glomerular(img, label_image, unit_path, bmp)\n",
    "            except Exception as e:\n",
    "                logging.error(e)\n",
    "                with open('./SegPic/error.txt', 'a') as f:\n",
    "                    f.write('\\n{}的第{}张切片分割肾小球出错: {}'.format(imgname,i,str(e)))\n",
    "#         break\n",
    "    print(imgname, ' finished! \\n')\n",
    "#     break"
   ]
  },
  {
   "cell_type": "code",
   "execution_count": null,
   "metadata": {},
   "outputs": [],
   "source": []
  },
  {
   "cell_type": "markdown",
   "metadata": {},
   "source": [
    "# 下面的是试验：将openslide读取出来的图片直接转换成RGB格式"
   ]
  },
  {
   "cell_type": "code",
   "execution_count": 19,
   "metadata": {},
   "outputs": [],
   "source": [
    "a = openslide.open_slide('/home/frodo/Desktop/job content/SVSFiles/8734.svs')"
   ]
  },
  {
   "cell_type": "code",
   "execution_count": null,
   "metadata": {},
   "outputs": [],
   "source": [
    "res1 = np.array(slide.read_region((0,0),1,(36140, 16548)))\n",
    "np.sum(res1[:,:,:-1])"
   ]
  },
  {
   "cell_type": "code",
   "execution_count": 13,
   "metadata": {},
   "outputs": [
    {
     "data": {
      "text/plain": [
       "80092220383"
      ]
     },
     "execution_count": 13,
     "metadata": {},
     "output_type": "execute_result"
    }
   ],
   "source": [
    "# 可以在读取的过程中转换成RGB格式\n",
    "res2 = np.array(slide.read_region((0,0),1,a.level_dimensions[1]).convert('RGB'))\n",
    "np.sum(res2过程中"
   ]
  },
  {
   "cell_type": "code",
   "execution_count": null,
   "metadata": {},
   "outputs": [],
   "source": []
  }
 ],
 "metadata": {
  "kernelspec": {
   "display_name": "Python 3",
   "language": "python",
   "name": "python3"
  },
  "language_info": {
   "codemirror_mode": {
    "name": "ipython",
    "version": 3
   },
   "file_extension": ".py",
   "mimetype": "text/x-python",
   "name": "python",
   "nbconvert_exporter": "python",
   "pygments_lexer": "ipython3",
   "version": "3.6.5"
  }
 },
 "nbformat": 4,
 "nbformat_minor": 2
}
